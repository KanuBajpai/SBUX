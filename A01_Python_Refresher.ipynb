{
  "nbformat": 4,
  "nbformat_minor": 0,
  "metadata": {
    "colab": {
      "name": "A1 - Python Refresher.ipynb",
      "provenance": [],
      "authorship_tag": "ABX9TyOiL6dve8nP0q6kL3EguZBW",
      "include_colab_link": true
    },
    "kernelspec": {
      "name": "python3",
      "display_name": "Python 3"
    }
  },
  "cells": [
    {
      "cell_type": "markdown",
      "metadata": {
        "id": "view-in-github",
        "colab_type": "text"
      },
      "source": [
        "<a href=\"https://colab.research.google.com/github/paulbruffett/python_class/blob/master/A01_Python_Refresher.ipynb\" target=\"_parent\"><img src=\"https://colab.research.google.com/assets/colab-badge.svg\" alt=\"Open In Colab\"/></a>"
      ]
    },
    {
      "cell_type": "markdown",
      "metadata": {
        "id": "rOnKzNV3eNs6",
        "colab_type": "text"
      },
      "source": [
        "#Python Refresher\n",
        "This notebook covers some of the key programming concepts in Python"
      ]
    },
    {
      "cell_type": "markdown",
      "metadata": {
        "id": "5SIRRB92eZyq",
        "colab_type": "text"
      },
      "source": [
        "###Let's start with some basic operations and data types:"
      ]
    },
    {
      "cell_type": "code",
      "metadata": {
        "id": "2lw_FPG5eKhU",
        "colab_type": "code",
        "colab": {
          "base_uri": "https://localhost:8080/",
          "height": 34
        },
        "outputId": "d8d38a16-1886-48ce-add3-df5151593fc4"
      },
      "source": [
        "1+1"
      ],
      "execution_count": 2,
      "outputs": [
        {
          "output_type": "execute_result",
          "data": {
            "text/plain": [
              "2"
            ]
          },
          "metadata": {
            "tags": []
          },
          "execution_count": 2
        }
      ]
    },
    {
      "cell_type": "code",
      "metadata": {
        "id": "gd1qV5GteWYz",
        "colab_type": "code",
        "colab": {
          "base_uri": "https://localhost:8080/",
          "height": 34
        },
        "outputId": "acbb20f8-342f-49af-ac10-9a386ed01483"
      },
      "source": [
        "5/3"
      ],
      "execution_count": 3,
      "outputs": [
        {
          "output_type": "execute_result",
          "data": {
            "text/plain": [
              "1.6666666666666667"
            ]
          },
          "metadata": {
            "tags": []
          },
          "execution_count": 3
        }
      ]
    },
    {
      "cell_type": "code",
      "metadata": {
        "id": "DBxBCgp1eX3k",
        "colab_type": "code",
        "colab": {}
      },
      "source": [
        "#variables are dynamically typed, this is great and terrible\n",
        "number = 5"
      ],
      "execution_count": 0,
      "outputs": []
    },
    {
      "cell_type": "code",
      "metadata": {
        "id": "EWD-_q3DekT4",
        "colab_type": "code",
        "colab": {
          "base_uri": "https://localhost:8080/",
          "height": 34
        },
        "outputId": "9da69639-27af-4062-b80c-b1e733e9086c"
      },
      "source": [
        "number+3"
      ],
      "execution_count": 7,
      "outputs": [
        {
          "output_type": "execute_result",
          "data": {
            "text/plain": [
              "8"
            ]
          },
          "metadata": {
            "tags": []
          },
          "execution_count": 7
        }
      ]
    },
    {
      "cell_type": "code",
      "metadata": {
        "id": "eJtmUPfgek-l",
        "colab_type": "code",
        "colab": {
          "base_uri": "https://localhost:8080/",
          "height": 34
        },
        "outputId": "c81fde1f-f4b2-4f51-d6d1-b19863efadd3"
      },
      "source": [
        "number+3.5"
      ],
      "execution_count": 8,
      "outputs": [
        {
          "output_type": "execute_result",
          "data": {
            "text/plain": [
              "8.5"
            ]
          },
          "metadata": {
            "tags": []
          },
          "execution_count": 8
        }
      ]
    },
    {
      "cell_type": "code",
      "metadata": {
        "id": "_z24FhLieqoU",
        "colab_type": "code",
        "colab": {
          "base_uri": "https://localhost:8080/",
          "height": 164
        },
        "outputId": "6dcf711d-d04a-4547-b411-177939eb58cc"
      },
      "source": [
        "number+'abc'"
      ],
      "execution_count": 9,
      "outputs": [
        {
          "output_type": "error",
          "ename": "TypeError",
          "evalue": "ignored",
          "traceback": [
            "\u001b[0;31m---------------------------------------------------------------------------\u001b[0m",
            "\u001b[0;31mTypeError\u001b[0m                                 Traceback (most recent call last)",
            "\u001b[0;32m<ipython-input-9-b967649086e7>\u001b[0m in \u001b[0;36m<module>\u001b[0;34m()\u001b[0m\n\u001b[0;32m----> 1\u001b[0;31m \u001b[0mnumber\u001b[0m\u001b[0;34m+\u001b[0m\u001b[0;34m'abc'\u001b[0m\u001b[0;34m\u001b[0m\u001b[0;34m\u001b[0m\u001b[0m\n\u001b[0m",
            "\u001b[0;31mTypeError\u001b[0m: unsupported operand type(s) for +: 'int' and 'str'"
          ]
        }
      ]
    },
    {
      "cell_type": "code",
      "metadata": {
        "id": "gAzolEzles9K",
        "colab_type": "code",
        "colab": {}
      },
      "source": [
        "#I can overwrite without re-typing or initializing\n",
        "number = 'abc'"
      ],
      "execution_count": 0,
      "outputs": []
    },
    {
      "cell_type": "code",
      "metadata": {
        "id": "cTw1VLdbevo8",
        "colab_type": "code",
        "colab": {
          "base_uri": "https://localhost:8080/",
          "height": 34
        },
        "outputId": "310e6011-1f88-44f6-c55a-9aa9150f4260"
      },
      "source": [
        "#operators work in a variety of ways on a variety of things\n",
        "number + 'defg'"
      ],
      "execution_count": 11,
      "outputs": [
        {
          "output_type": "execute_result",
          "data": {
            "text/plain": [
              "'abcdefg'"
            ]
          },
          "metadata": {
            "tags": []
          },
          "execution_count": 11
        }
      ]
    },
    {
      "cell_type": "markdown",
      "metadata": {
        "id": "5OwLrrLDe4Qg",
        "colab_type": "text"
      },
      "source": [
        "### Objects: lists and dictionaries\n",
        "Lists are ordered sets of (possibly) heterogeneous things, could be numbers, strings, other lists, functions or objects...\n",
        "\n",
        "Dictionaries are key/value pairs and can contain a variety of objects as the values, usually a key is a word or number."
      ]
    },
    {
      "cell_type": "code",
      "metadata": {
        "id": "07K1ng34ew3p",
        "colab_type": "code",
        "colab": {}
      },
      "source": [
        "a_list = [1,2,3,4]"
      ],
      "execution_count": 0,
      "outputs": []
    },
    {
      "cell_type": "code",
      "metadata": {
        "id": "H1Yos-PWe-96",
        "colab_type": "code",
        "colab": {
          "base_uri": "https://localhost:8080/",
          "height": 34
        },
        "outputId": "303262c3-dd49-4511-eaf7-8ad6690ebfe2"
      },
      "source": [
        "a_list"
      ],
      "execution_count": 13,
      "outputs": [
        {
          "output_type": "execute_result",
          "data": {
            "text/plain": [
              "[1, 2, 3, 4]"
            ]
          },
          "metadata": {
            "tags": []
          },
          "execution_count": 13
        }
      ]
    },
    {
      "cell_type": "code",
      "metadata": {
        "id": "ptP3qFRDe_cC",
        "colab_type": "code",
        "colab": {
          "base_uri": "https://localhost:8080/",
          "height": 34
        },
        "outputId": "035403bf-7961-4566-9c96-6d909614694e"
      },
      "source": [
        "#we access using brackets and the number position of the object\n",
        "a_list[0]"
      ],
      "execution_count": 15,
      "outputs": [
        {
          "output_type": "execute_result",
          "data": {
            "text/plain": [
              "1"
            ]
          },
          "metadata": {
            "tags": []
          },
          "execution_count": 15
        }
      ]
    },
    {
      "cell_type": "code",
      "metadata": {
        "id": "4s3o2_lqfASr",
        "colab_type": "code",
        "colab": {
          "base_uri": "https://localhost:8080/",
          "height": 34
        },
        "outputId": "83918976-c979-4eeb-ff64-eab9fb8a71ed"
      },
      "source": [
        "a_list[-1]"
      ],
      "execution_count": 16,
      "outputs": [
        {
          "output_type": "execute_result",
          "data": {
            "text/plain": [
              "4"
            ]
          },
          "metadata": {
            "tags": []
          },
          "execution_count": 16
        }
      ]
    },
    {
      "cell_type": "code",
      "metadata": {
        "id": "S8rjRwZSfVIH",
        "colab_type": "code",
        "colab": {
          "base_uri": "https://localhost:8080/",
          "height": 34
        },
        "outputId": "9f657350-dd84-41a1-a090-4bd3c5302ff8"
      },
      "source": [
        "#we can slice a list to access one or many objects from it\n",
        "a_list[:2]"
      ],
      "execution_count": 17,
      "outputs": [
        {
          "output_type": "execute_result",
          "data": {
            "text/plain": [
              "[1, 2]"
            ]
          },
          "metadata": {
            "tags": []
          },
          "execution_count": 17
        }
      ]
    },
    {
      "cell_type": "code",
      "metadata": {
        "id": "B_oGQ94EfWqG",
        "colab_type": "code",
        "colab": {}
      },
      "source": [
        "#appending can be done using a method on the list object\n",
        "a_list.append(5)"
      ],
      "execution_count": 0,
      "outputs": []
    },
    {
      "cell_type": "code",
      "metadata": {
        "id": "z3yw7fOiffZF",
        "colab_type": "code",
        "colab": {
          "base_uri": "https://localhost:8080/",
          "height": 34
        },
        "outputId": "4e9b9b12-0f0c-4374-99b1-8e94f034f487"
      },
      "source": [
        "a_list"
      ],
      "execution_count": 19,
      "outputs": [
        {
          "output_type": "execute_result",
          "data": {
            "text/plain": [
              "[1, 2, 3, 4, 5]"
            ]
          },
          "metadata": {
            "tags": []
          },
          "execution_count": 19
        }
      ]
    },
    {
      "cell_type": "code",
      "metadata": {
        "id": "3ttyUcm5ff1X",
        "colab_type": "code",
        "colab": {}
      },
      "source": [
        "a_list.append([10,11,12])"
      ],
      "execution_count": 0,
      "outputs": []
    },
    {
      "cell_type": "code",
      "metadata": {
        "id": "1qjGLI_ifzyA",
        "colab_type": "code",
        "colab": {
          "base_uri": "https://localhost:8080/",
          "height": 34
        },
        "outputId": "2a0104e2-06e5-4b9a-ccba-0ce05f888350"
      },
      "source": [
        "a_list"
      ],
      "execution_count": 21,
      "outputs": [
        {
          "output_type": "execute_result",
          "data": {
            "text/plain": [
              "[1, 2, 3, 4, 5, [10, 11, 12]]"
            ]
          },
          "metadata": {
            "tags": []
          },
          "execution_count": 21
        }
      ]
    },
    {
      "cell_type": "code",
      "metadata": {
        "id": "JzDafzs6f0K2",
        "colab_type": "code",
        "colab": {
          "base_uri": "https://localhost:8080/",
          "height": 34
        },
        "outputId": "59484e12-a915-4e0a-bd01-1e325d67390f"
      },
      "source": [
        "#I can index into an arbitrary number of lists or objects inside a list!\n",
        "a_list[-1][0]"
      ],
      "execution_count": 23,
      "outputs": [
        {
          "output_type": "execute_result",
          "data": {
            "text/plain": [
              "10"
            ]
          },
          "metadata": {
            "tags": []
          },
          "execution_count": 23
        }
      ]
    },
    {
      "cell_type": "code",
      "metadata": {
        "id": "ugba9JTvf33W",
        "colab_type": "code",
        "colab": {}
      },
      "source": [
        "a_dictionary = {'USA':\"Washington\",\"Mexico\":\"Mexico City\",\"Peru\":\"Lima\"}"
      ],
      "execution_count": 0,
      "outputs": []
    },
    {
      "cell_type": "code",
      "metadata": {
        "id": "MH872eVKf_wJ",
        "colab_type": "code",
        "colab": {
          "base_uri": "https://localhost:8080/",
          "height": 34
        },
        "outputId": "63fc4cd1-7606-4d50-a8aa-bb58f55b905a"
      },
      "source": [
        "#position is irrelevant in a dictionary, instead you access the value using the key\n",
        "a_dictionary['USA']"
      ],
      "execution_count": 27,
      "outputs": [
        {
          "output_type": "execute_result",
          "data": {
            "text/plain": [
              "'Washington'"
            ]
          },
          "metadata": {
            "tags": []
          },
          "execution_count": 27
        }
      ]
    },
    {
      "cell_type": "code",
      "metadata": {
        "id": "CGmATRbWgF6h",
        "colab_type": "code",
        "colab": {}
      },
      "source": [
        "#appending also doesn't make sense, we add in key value pairs, if a key doesn't already exist it's added\n",
        "a_dictionary['Canada'] = 'Ottawa'"
      ],
      "execution_count": 0,
      "outputs": []
    },
    {
      "cell_type": "code",
      "metadata": {
        "id": "nSYj0YjrgTDX",
        "colab_type": "code",
        "colab": {
          "base_uri": "https://localhost:8080/",
          "height": 85
        },
        "outputId": "8c9629a1-5758-4ac2-86aa-d5635ea990b3"
      },
      "source": [
        "a_dictionary"
      ],
      "execution_count": 29,
      "outputs": [
        {
          "output_type": "execute_result",
          "data": {
            "text/plain": [
              "{'Canada': 'Ottawa',\n",
              " 'Mexico': 'Mexico City',\n",
              " 'Peru': 'Lima',\n",
              " 'USA': 'Washington'}"
            ]
          },
          "metadata": {
            "tags": []
          },
          "execution_count": 29
        }
      ]
    },
    {
      "cell_type": "code",
      "metadata": {
        "id": "174njK2-gTws",
        "colab_type": "code",
        "colab": {}
      },
      "source": [
        "a_dictionary['list'] = [1,2,3,4]"
      ],
      "execution_count": 0,
      "outputs": []
    },
    {
      "cell_type": "code",
      "metadata": {
        "id": "8-0Qm35cgWnH",
        "colab_type": "code",
        "colab": {
          "base_uri": "https://localhost:8080/",
          "height": 102
        },
        "outputId": "e7e6ccf4-17e0-46e0-9391-19dd1d89c5a9"
      },
      "source": [
        "a_dictionary"
      ],
      "execution_count": 31,
      "outputs": [
        {
          "output_type": "execute_result",
          "data": {
            "text/plain": [
              "{'Canada': 'Ottawa',\n",
              " 'Mexico': 'Mexico City',\n",
              " 'Peru': 'Lima',\n",
              " 'USA': 'Washington',\n",
              " 'list': [1, 2, 3, 4]}"
            ]
          },
          "metadata": {
            "tags": []
          },
          "execution_count": 31
        }
      ]
    },
    {
      "cell_type": "code",
      "metadata": {
        "id": "dcYaul5PgXQn",
        "colab_type": "code",
        "colab": {
          "base_uri": "https://localhost:8080/",
          "height": 34
        },
        "outputId": "96618193-e1d6-4126-8461-c511b7648e1f"
      },
      "source": [
        "#indexing in a list in a dictionary\n",
        "a_dictionary['list'][0]"
      ],
      "execution_count": 33,
      "outputs": [
        {
          "output_type": "execute_result",
          "data": {
            "text/plain": [
              "1"
            ]
          },
          "metadata": {
            "tags": []
          },
          "execution_count": 33
        }
      ]
    },
    {
      "cell_type": "markdown",
      "metadata": {
        "id": "sgAXuQKHwX3b",
        "colab_type": "text"
      },
      "source": [
        "### Iterators and Conditionals\n",
        "We can use for loops to iterate over a list or dictionary or object that supports iteration.  You'll notice the indent, indentation is required in Python and denotes relationships, in this case all indented code is contained in the for loop."
      ]
    },
    {
      "cell_type": "code",
      "metadata": {
        "id": "WgvFSg4RwSKn",
        "colab_type": "code",
        "colab": {
          "base_uri": "https://localhost:8080/",
          "height": 68
        },
        "outputId": "05dee96a-b5f3-417e-8496-d1c9348b1f82"
      },
      "source": [
        "for i in [1,2,3]:\n",
        "  print(i)"
      ],
      "execution_count": 34,
      "outputs": [
        {
          "output_type": "stream",
          "text": [
            "1\n",
            "2\n",
            "3\n"
          ],
          "name": "stdout"
        }
      ]
    },
    {
      "cell_type": "code",
      "metadata": {
        "id": "84qbi7_iwgcK",
        "colab_type": "code",
        "colab": {}
      },
      "source": [
        "#i is just a variable, it could be called anything and has no impact on the source iterator or list\n",
        "num_list = [1,2,3,4,5,6]\n",
        "for i in num_list:\n",
        "  i+1"
      ],
      "execution_count": 0,
      "outputs": []
    },
    {
      "cell_type": "code",
      "metadata": {
        "id": "xNVIZTKHwwez",
        "colab_type": "code",
        "colab": {
          "base_uri": "https://localhost:8080/",
          "height": 136
        },
        "outputId": "d55abc94-b839-4781-cfc4-7de758ee3878"
      },
      "source": [
        "#if I wanted to take the num_list and add one to each number I could do this:\n",
        "for i in range(len(num_list)):\n",
        "  print(i)\n",
        "  num_list[i]+=1\n",
        "\n",
        "num_list"
      ],
      "execution_count": 47,
      "outputs": [
        {
          "output_type": "stream",
          "text": [
            "0\n",
            "1\n",
            "2\n",
            "3\n",
            "4\n",
            "5\n"
          ],
          "name": "stdout"
        },
        {
          "output_type": "execute_result",
          "data": {
            "text/plain": [
              "[2, 3, 4, 5, 6, 7]"
            ]
          },
          "metadata": {
            "tags": []
          },
          "execution_count": 47
        }
      ]
    },
    {
      "cell_type": "markdown",
      "metadata": {
        "id": "1qSwGD6JxNTG",
        "colab_type": "text"
      },
      "source": [
        "Range + len gives me an iterator from 0 through the length of the item, in this case the list.  It's a good way to loop through by indexing."
      ]
    },
    {
      "cell_type": "code",
      "metadata": {
        "id": "WTMVAme8w4tB",
        "colab_type": "code",
        "colab": {
          "base_uri": "https://localhost:8080/",
          "height": 102
        },
        "outputId": "de1e08d6-b24c-4e4b-cca0-ce38e101e7c3"
      },
      "source": [
        "c = 0\n",
        "while c<5:\n",
        "  print('still going, c is %d' %c)\n",
        "  c+=1"
      ],
      "execution_count": 49,
      "outputs": [
        {
          "output_type": "stream",
          "text": [
            "still going, c is 0\n",
            "still going, c is 1\n",
            "still going, c is 2\n",
            "still going, c is 3\n",
            "still going, c is 4\n"
          ],
          "name": "stdout"
        }
      ]
    },
    {
      "cell_type": "code",
      "metadata": {
        "id": "I7dQ6Pi6xfc_",
        "colab_type": "code",
        "colab": {}
      },
      "source": [
        ""
      ],
      "execution_count": 0,
      "outputs": []
    }
  ]
}