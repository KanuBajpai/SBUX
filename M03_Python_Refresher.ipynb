{
  "nbformat": 4,
  "nbformat_minor": 0,
  "metadata": {
    "colab": {
      "name": "A01 - Python Refresher.ipynb",
      "provenance": [],
      "authorship_tag": "ABX9TyOab2XZBabhFqa1s3kplbOA",
      "include_colab_link": true
    },
    "kernelspec": {
      "name": "python3",
      "display_name": "Python 3"
    }
  },
  "cells": [
    {
      "cell_type": "markdown",
      "metadata": {
        "id": "view-in-github",
        "colab_type": "text"
      },
      "source": [
        "<a href=\"https://colab.research.google.com/github/paulbruffett/python_class/blob/master/A01_Python_Refresher.ipynb\" target=\"_parent\"><img src=\"https://colab.research.google.com/assets/colab-badge.svg\" alt=\"Open In Colab\"/></a>"
      ]
    },
    {
      "cell_type": "markdown",
      "metadata": {
        "id": "rOnKzNV3eNs6",
        "colab_type": "text"
      },
      "source": [
        "#Python Refresher\n",
        "This notebook covers some of the key programming concepts in Python"
      ]
    },
    {
      "cell_type": "markdown",
      "metadata": {
        "id": "5SIRRB92eZyq",
        "colab_type": "text"
      },
      "source": [
        "###Let's start with some basic operations and data types:"
      ]
    },
    {
      "cell_type": "code",
      "metadata": {
        "id": "2lw_FPG5eKhU",
        "colab_type": "code",
        "colab": {
          "base_uri": "https://localhost:8080/",
          "height": 34
        },
        "outputId": "dcb50dea-2fa2-4f57-e21a-9b9d4048a380"
      },
      "source": [
        "1+1"
      ],
      "execution_count": 50,
      "outputs": [
        {
          "output_type": "execute_result",
          "data": {
            "text/plain": [
              "2"
            ]
          },
          "metadata": {
            "tags": []
          },
          "execution_count": 50
        }
      ]
    },
    {
      "cell_type": "code",
      "metadata": {
        "id": "gd1qV5GteWYz",
        "colab_type": "code",
        "colab": {
          "base_uri": "https://localhost:8080/",
          "height": 34
        },
        "outputId": "536cfe24-6c86-4937-ed8a-d95ce93a1457"
      },
      "source": [
        "5/3"
      ],
      "execution_count": 51,
      "outputs": [
        {
          "output_type": "execute_result",
          "data": {
            "text/plain": [
              "1.6666666666666667"
            ]
          },
          "metadata": {
            "tags": []
          },
          "execution_count": 51
        }
      ]
    },
    {
      "cell_type": "code",
      "metadata": {
        "id": "DBxBCgp1eX3k",
        "colab_type": "code",
        "colab": {}
      },
      "source": [
        "#variables are dynamically typed, this is great and terrible\n",
        "number = 5"
      ],
      "execution_count": 0,
      "outputs": []
    },
    {
      "cell_type": "code",
      "metadata": {
        "id": "EWD-_q3DekT4",
        "colab_type": "code",
        "colab": {
          "base_uri": "https://localhost:8080/",
          "height": 34
        },
        "outputId": "2ea386ec-0023-4552-a658-3ad6c1232774"
      },
      "source": [
        "number+3"
      ],
      "execution_count": 53,
      "outputs": [
        {
          "output_type": "execute_result",
          "data": {
            "text/plain": [
              "8"
            ]
          },
          "metadata": {
            "tags": []
          },
          "execution_count": 53
        }
      ]
    },
    {
      "cell_type": "code",
      "metadata": {
        "id": "eJtmUPfgek-l",
        "colab_type": "code",
        "colab": {
          "base_uri": "https://localhost:8080/",
          "height": 34
        },
        "outputId": "bbb2e00c-c66f-40df-b3d8-f76f487613f4"
      },
      "source": [
        "number+3.5"
      ],
      "execution_count": 54,
      "outputs": [
        {
          "output_type": "execute_result",
          "data": {
            "text/plain": [
              "8.5"
            ]
          },
          "metadata": {
            "tags": []
          },
          "execution_count": 54
        }
      ]
    },
    {
      "cell_type": "code",
      "metadata": {
        "id": "_z24FhLieqoU",
        "colab_type": "code",
        "colab": {
          "base_uri": "https://localhost:8080/",
          "height": 164
        },
        "outputId": "d8f5abb2-bfe9-49bd-b838-2e539749ee3b"
      },
      "source": [
        "number+'abc'"
      ],
      "execution_count": 55,
      "outputs": [
        {
          "output_type": "error",
          "ename": "TypeError",
          "evalue": "ignored",
          "traceback": [
            "\u001b[0;31m---------------------------------------------------------------------------\u001b[0m",
            "\u001b[0;31mTypeError\u001b[0m                                 Traceback (most recent call last)",
            "\u001b[0;32m<ipython-input-55-b967649086e7>\u001b[0m in \u001b[0;36m<module>\u001b[0;34m()\u001b[0m\n\u001b[0;32m----> 1\u001b[0;31m \u001b[0mnumber\u001b[0m\u001b[0;34m+\u001b[0m\u001b[0;34m'abc'\u001b[0m\u001b[0;34m\u001b[0m\u001b[0;34m\u001b[0m\u001b[0m\n\u001b[0m",
            "\u001b[0;31mTypeError\u001b[0m: unsupported operand type(s) for +: 'int' and 'str'"
          ]
        }
      ]
    },
    {
      "cell_type": "code",
      "metadata": {
        "id": "gAzolEzles9K",
        "colab_type": "code",
        "colab": {}
      },
      "source": [
        "#I can overwrite without re-typing or initializing\n",
        "number = 'abc'"
      ],
      "execution_count": 0,
      "outputs": []
    },
    {
      "cell_type": "code",
      "metadata": {
        "id": "cTw1VLdbevo8",
        "colab_type": "code",
        "colab": {
          "base_uri": "https://localhost:8080/",
          "height": 34
        },
        "outputId": "c8b0d224-f36d-4228-dcc4-ee6f50e37c56"
      },
      "source": [
        "#operators work in a variety of ways on a variety of things\n",
        "number + 'defg'"
      ],
      "execution_count": 57,
      "outputs": [
        {
          "output_type": "execute_result",
          "data": {
            "text/plain": [
              "'abcdefg'"
            ]
          },
          "metadata": {
            "tags": []
          },
          "execution_count": 57
        }
      ]
    },
    {
      "cell_type": "markdown",
      "metadata": {
        "id": "5OwLrrLDe4Qg",
        "colab_type": "text"
      },
      "source": [
        "### Objects: lists and dictionaries\n",
        "Lists are ordered sets of (possibly) heterogeneous things, could be numbers, strings, other lists, functions or objects...\n",
        "\n",
        "Dictionaries are key/value pairs and can contain a variety of objects as the values, usually a key is a word or number."
      ]
    },
    {
      "cell_type": "code",
      "metadata": {
        "id": "07K1ng34ew3p",
        "colab_type": "code",
        "colab": {}
      },
      "source": [
        "a_list = [1,2,3,4]"
      ],
      "execution_count": 0,
      "outputs": []
    },
    {
      "cell_type": "code",
      "metadata": {
        "id": "H1Yos-PWe-96",
        "colab_type": "code",
        "colab": {
          "base_uri": "https://localhost:8080/",
          "height": 34
        },
        "outputId": "1a8474f6-4081-4866-de72-f099819f25c1"
      },
      "source": [
        "a_list"
      ],
      "execution_count": 59,
      "outputs": [
        {
          "output_type": "execute_result",
          "data": {
            "text/plain": [
              "[1, 2, 3, 4]"
            ]
          },
          "metadata": {
            "tags": []
          },
          "execution_count": 59
        }
      ]
    },
    {
      "cell_type": "code",
      "metadata": {
        "id": "ptP3qFRDe_cC",
        "colab_type": "code",
        "colab": {
          "base_uri": "https://localhost:8080/",
          "height": 34
        },
        "outputId": "a138616a-cf11-4c22-bd12-c241e86e3ef2"
      },
      "source": [
        "#we access using brackets and the number position of the object\n",
        "a_list[0]"
      ],
      "execution_count": 60,
      "outputs": [
        {
          "output_type": "execute_result",
          "data": {
            "text/plain": [
              "1"
            ]
          },
          "metadata": {
            "tags": []
          },
          "execution_count": 60
        }
      ]
    },
    {
      "cell_type": "code",
      "metadata": {
        "id": "4s3o2_lqfASr",
        "colab_type": "code",
        "colab": {
          "base_uri": "https://localhost:8080/",
          "height": 34
        },
        "outputId": "0ef1978a-2cd6-4455-e9e3-e67ba4f5b02a"
      },
      "source": [
        "a_list[-1]"
      ],
      "execution_count": 61,
      "outputs": [
        {
          "output_type": "execute_result",
          "data": {
            "text/plain": [
              "4"
            ]
          },
          "metadata": {
            "tags": []
          },
          "execution_count": 61
        }
      ]
    },
    {
      "cell_type": "code",
      "metadata": {
        "id": "S8rjRwZSfVIH",
        "colab_type": "code",
        "colab": {
          "base_uri": "https://localhost:8080/",
          "height": 34
        },
        "outputId": "c22b4742-b51d-43ae-b569-1bc2669d2438"
      },
      "source": [
        "#we can slice a list to access one or many objects from it\n",
        "a_list[:2]"
      ],
      "execution_count": 62,
      "outputs": [
        {
          "output_type": "execute_result",
          "data": {
            "text/plain": [
              "[1, 2]"
            ]
          },
          "metadata": {
            "tags": []
          },
          "execution_count": 62
        }
      ]
    },
    {
      "cell_type": "code",
      "metadata": {
        "id": "B_oGQ94EfWqG",
        "colab_type": "code",
        "colab": {}
      },
      "source": [
        "#appending can be done using a method on the list object\n",
        "a_list.append(5)"
      ],
      "execution_count": 0,
      "outputs": []
    },
    {
      "cell_type": "code",
      "metadata": {
        "id": "z3yw7fOiffZF",
        "colab_type": "code",
        "colab": {
          "base_uri": "https://localhost:8080/",
          "height": 34
        },
        "outputId": "04b127e3-9c8f-42c0-82f0-a593663692ff"
      },
      "source": [
        "a_list"
      ],
      "execution_count": 64,
      "outputs": [
        {
          "output_type": "execute_result",
          "data": {
            "text/plain": [
              "[1, 2, 3, 4, 5]"
            ]
          },
          "metadata": {
            "tags": []
          },
          "execution_count": 64
        }
      ]
    },
    {
      "cell_type": "code",
      "metadata": {
        "id": "3ttyUcm5ff1X",
        "colab_type": "code",
        "colab": {}
      },
      "source": [
        "a_list.append([10,11,12])"
      ],
      "execution_count": 0,
      "outputs": []
    },
    {
      "cell_type": "code",
      "metadata": {
        "id": "1qjGLI_ifzyA",
        "colab_type": "code",
        "colab": {
          "base_uri": "https://localhost:8080/",
          "height": 34
        },
        "outputId": "2f840208-3d42-408e-e7fd-05767d031e09"
      },
      "source": [
        "a_list"
      ],
      "execution_count": 66,
      "outputs": [
        {
          "output_type": "execute_result",
          "data": {
            "text/plain": [
              "[1, 2, 3, 4, 5, [10, 11, 12]]"
            ]
          },
          "metadata": {
            "tags": []
          },
          "execution_count": 66
        }
      ]
    },
    {
      "cell_type": "code",
      "metadata": {
        "id": "JzDafzs6f0K2",
        "colab_type": "code",
        "colab": {
          "base_uri": "https://localhost:8080/",
          "height": 34
        },
        "outputId": "fbc4936e-de63-48e5-e37c-02e1f064c400"
      },
      "source": [
        "#I can index into an arbitrary number of lists or objects inside a list!\n",
        "a_list[-1][0]"
      ],
      "execution_count": 67,
      "outputs": [
        {
          "output_type": "execute_result",
          "data": {
            "text/plain": [
              "10"
            ]
          },
          "metadata": {
            "tags": []
          },
          "execution_count": 67
        }
      ]
    },
    {
      "cell_type": "code",
      "metadata": {
        "id": "ugba9JTvf33W",
        "colab_type": "code",
        "colab": {}
      },
      "source": [
        "a_dictionary = {'USA':\"Washington\",\"Mexico\":\"Mexico City\",\"Peru\":\"Lima\"}"
      ],
      "execution_count": 0,
      "outputs": []
    },
    {
      "cell_type": "code",
      "metadata": {
        "id": "MH872eVKf_wJ",
        "colab_type": "code",
        "colab": {
          "base_uri": "https://localhost:8080/",
          "height": 34
        },
        "outputId": "bdbb05ec-da1c-4771-cece-66f95b2316db"
      },
      "source": [
        "#position is irrelevant in a dictionary, instead you access the value using the key\n",
        "a_dictionary['USA']"
      ],
      "execution_count": 69,
      "outputs": [
        {
          "output_type": "execute_result",
          "data": {
            "text/plain": [
              "'Washington'"
            ]
          },
          "metadata": {
            "tags": []
          },
          "execution_count": 69
        }
      ]
    },
    {
      "cell_type": "code",
      "metadata": {
        "id": "CGmATRbWgF6h",
        "colab_type": "code",
        "colab": {}
      },
      "source": [
        "#appending also doesn't make sense, we add in key value pairs, if a key doesn't already exist it's added\n",
        "a_dictionary['Canada'] = 'Ottawa'"
      ],
      "execution_count": 0,
      "outputs": []
    },
    {
      "cell_type": "code",
      "metadata": {
        "id": "nSYj0YjrgTDX",
        "colab_type": "code",
        "colab": {
          "base_uri": "https://localhost:8080/",
          "height": 85
        },
        "outputId": "328871ac-3da4-4c3d-8467-738d56181a1e"
      },
      "source": [
        "a_dictionary"
      ],
      "execution_count": 71,
      "outputs": [
        {
          "output_type": "execute_result",
          "data": {
            "text/plain": [
              "{'Canada': 'Ottawa',\n",
              " 'Mexico': 'Mexico City',\n",
              " 'Peru': 'Lima',\n",
              " 'USA': 'Washington'}"
            ]
          },
          "metadata": {
            "tags": []
          },
          "execution_count": 71
        }
      ]
    },
    {
      "cell_type": "code",
      "metadata": {
        "id": "174njK2-gTws",
        "colab_type": "code",
        "colab": {}
      },
      "source": [
        "a_dictionary['list'] = [1,2,3,4]"
      ],
      "execution_count": 0,
      "outputs": []
    },
    {
      "cell_type": "code",
      "metadata": {
        "id": "8-0Qm35cgWnH",
        "colab_type": "code",
        "colab": {
          "base_uri": "https://localhost:8080/",
          "height": 102
        },
        "outputId": "6ef4f436-69aa-4030-85c4-e62c26d3e5e9"
      },
      "source": [
        "a_dictionary"
      ],
      "execution_count": 73,
      "outputs": [
        {
          "output_type": "execute_result",
          "data": {
            "text/plain": [
              "{'Canada': 'Ottawa',\n",
              " 'Mexico': 'Mexico City',\n",
              " 'Peru': 'Lima',\n",
              " 'USA': 'Washington',\n",
              " 'list': [1, 2, 3, 4]}"
            ]
          },
          "metadata": {
            "tags": []
          },
          "execution_count": 73
        }
      ]
    },
    {
      "cell_type": "code",
      "metadata": {
        "id": "dcYaul5PgXQn",
        "colab_type": "code",
        "colab": {
          "base_uri": "https://localhost:8080/",
          "height": 34
        },
        "outputId": "4a08094f-e99d-44ba-fe62-7901b8115355"
      },
      "source": [
        "#indexing in a list in a dictionary\n",
        "a_dictionary['list'][0]"
      ],
      "execution_count": 74,
      "outputs": [
        {
          "output_type": "execute_result",
          "data": {
            "text/plain": [
              "1"
            ]
          },
          "metadata": {
            "tags": []
          },
          "execution_count": 74
        }
      ]
    },
    {
      "cell_type": "markdown",
      "metadata": {
        "id": "sgAXuQKHwX3b",
        "colab_type": "text"
      },
      "source": [
        "### Iterators and Conditionals\n",
        "We can use for loops to iterate over a list or dictionary or object that supports iteration.  You'll notice the indent, indentation is required in Python and denotes relationships, in this case all indented code is contained in the for loop."
      ]
    },
    {
      "cell_type": "code",
      "metadata": {
        "id": "WgvFSg4RwSKn",
        "colab_type": "code",
        "colab": {
          "base_uri": "https://localhost:8080/",
          "height": 68
        },
        "outputId": "7dbb4be8-e9a1-41c8-cb8a-916614e50085"
      },
      "source": [
        "for i in [1,2,3]:\n",
        "  print(i)"
      ],
      "execution_count": 75,
      "outputs": [
        {
          "output_type": "stream",
          "text": [
            "1\n",
            "2\n",
            "3\n"
          ],
          "name": "stdout"
        }
      ]
    },
    {
      "cell_type": "code",
      "metadata": {
        "id": "84qbi7_iwgcK",
        "colab_type": "code",
        "colab": {}
      },
      "source": [
        "#i is just a variable, it could be called anything and has no impact on the source iterator or list\n",
        "num_list = [1,2,3,4,5,6]\n",
        "for i in num_list:\n",
        "  i+1"
      ],
      "execution_count": 0,
      "outputs": []
    },
    {
      "cell_type": "code",
      "metadata": {
        "id": "xNVIZTKHwwez",
        "colab_type": "code",
        "colab": {
          "base_uri": "https://localhost:8080/",
          "height": 136
        },
        "outputId": "85459618-6d6b-4e0d-979a-27089320ea12"
      },
      "source": [
        "#if I wanted to take the num_list and add one to each number I could do this:\n",
        "for i in range(len(num_list)):\n",
        "  print(i)\n",
        "  num_list[i]+=1\n",
        "\n",
        "num_list"
      ],
      "execution_count": 77,
      "outputs": [
        {
          "output_type": "stream",
          "text": [
            "0\n",
            "1\n",
            "2\n",
            "3\n",
            "4\n",
            "5\n"
          ],
          "name": "stdout"
        },
        {
          "output_type": "execute_result",
          "data": {
            "text/plain": [
              "[2, 3, 4, 5, 6, 7]"
            ]
          },
          "metadata": {
            "tags": []
          },
          "execution_count": 77
        }
      ]
    },
    {
      "cell_type": "markdown",
      "metadata": {
        "id": "1qSwGD6JxNTG",
        "colab_type": "text"
      },
      "source": [
        "Range + len gives me an iterator from 0 through the length of the item, in this case the list.  It's a good way to loop through by indexing."
      ]
    },
    {
      "cell_type": "code",
      "metadata": {
        "id": "WTMVAme8w4tB",
        "colab_type": "code",
        "colab": {
          "base_uri": "https://localhost:8080/",
          "height": 102
        },
        "outputId": "bc4f0f2c-8447-40f7-a255-b83a677b7aa2"
      },
      "source": [
        "#while continues until the statement evaulates to FALSE\n",
        "c = 0\n",
        "while c<5:\n",
        "  print('still going, c is %d' %c)\n",
        "  c+=1"
      ],
      "execution_count": 78,
      "outputs": [
        {
          "output_type": "stream",
          "text": [
            "still going, c is 0\n",
            "still going, c is 1\n",
            "still going, c is 2\n",
            "still going, c is 3\n",
            "still going, c is 4\n"
          ],
          "name": "stdout"
        }
      ]
    },
    {
      "cell_type": "code",
      "metadata": {
        "id": "I7dQ6Pi6xfc_",
        "colab_type": "code",
        "colab": {
          "base_uri": "https://localhost:8080/",
          "height": 34
        },
        "outputId": "eaca886f-f15e-476f-e32a-a1caa6a9651d"
      },
      "source": [
        "if 5>3:\n",
        "  print('5 is bigger')"
      ],
      "execution_count": 79,
      "outputs": [
        {
          "output_type": "stream",
          "text": [
            "5 is bigger\n"
          ],
          "name": "stdout"
        }
      ]
    },
    {
      "cell_type": "code",
      "metadata": {
        "id": "HR1MgUeCXkQX",
        "colab_type": "code",
        "colab": {
          "base_uri": "https://localhost:8080/",
          "height": 136
        },
        "outputId": "fce8bfa7-ac34-4ff7-b15e-4994082e2526"
      },
      "source": [
        "#will stop looping when the if statement evaluates to True, break exits the containing loop.\n",
        "c = 0\n",
        "while True:\n",
        "  print(c)\n",
        "  c+=1\n",
        "  if c>6:\n",
        "    break"
      ],
      "execution_count": 81,
      "outputs": [
        {
          "output_type": "stream",
          "text": [
            "0\n",
            "1\n",
            "2\n",
            "3\n",
            "4\n",
            "5\n",
            "6\n"
          ],
          "name": "stdout"
        }
      ]
    },
    {
      "cell_type": "markdown",
      "metadata": {
        "id": "bKD513JlX_D7",
        "colab_type": "text"
      },
      "source": [
        "### Functions and classes\n",
        "Functions allow us to make reusable bits of code, classes allow us to make objects that are extensible."
      ]
    },
    {
      "cell_type": "code",
      "metadata": {
        "id": "xFjoGpooXrzA",
        "colab_type": "code",
        "colab": {}
      },
      "source": [
        "def exp_func(num):\n",
        "  return num**2"
      ],
      "execution_count": 0,
      "outputs": []
    },
    {
      "cell_type": "code",
      "metadata": {
        "id": "gUF9YmW4YNM6",
        "colab_type": "code",
        "colab": {
          "base_uri": "https://localhost:8080/",
          "height": 34
        },
        "outputId": "0c772188-2110-4508-b386-79fa8637cb12"
      },
      "source": [
        "exp_func(5)"
      ],
      "execution_count": 84,
      "outputs": [
        {
          "output_type": "execute_result",
          "data": {
            "text/plain": [
              "25"
            ]
          },
          "metadata": {
            "tags": []
          },
          "execution_count": 84
        }
      ]
    },
    {
      "cell_type": "code",
      "metadata": {
        "id": "IpIlonL9YOIt",
        "colab_type": "code",
        "colab": {}
      },
      "source": [
        "def exp_func(num,pow):\n",
        "  return num**pow"
      ],
      "execution_count": 0,
      "outputs": []
    },
    {
      "cell_type": "code",
      "metadata": {
        "id": "PbFsw2qpYTD3",
        "colab_type": "code",
        "colab": {
          "base_uri": "https://localhost:8080/",
          "height": 34
        },
        "outputId": "98f19623-6300-428c-a672-f1530f98fee4"
      },
      "source": [
        "exp_func(5,3)"
      ],
      "execution_count": 86,
      "outputs": [
        {
          "output_type": "execute_result",
          "data": {
            "text/plain": [
              "125"
            ]
          },
          "metadata": {
            "tags": []
          },
          "execution_count": 86
        }
      ]
    },
    {
      "cell_type": "code",
      "metadata": {
        "id": "6GrgcJ5yYUc7",
        "colab_type": "code",
        "colab": {
          "base_uri": "https://localhost:8080/",
          "height": 34
        },
        "outputId": "99760b2b-1e38-4556-acdf-2c2b7782ba9c"
      },
      "source": [
        "exp_func(5,2)"
      ],
      "execution_count": 87,
      "outputs": [
        {
          "output_type": "execute_result",
          "data": {
            "text/plain": [
              "25"
            ]
          },
          "metadata": {
            "tags": []
          },
          "execution_count": 87
        }
      ]
    },
    {
      "cell_type": "code",
      "metadata": {
        "id": "HjddRF-1YV5l",
        "colab_type": "code",
        "colab": {}
      },
      "source": [
        "class Numbers:\n",
        "  def __init__(self, num, exp):\n",
        "    self.n = num\n",
        "    self.e = exp\n",
        "  \n",
        "  def raise_exp(self):\n",
        "    return self.n**self.e\n",
        "\n",
        "x = Numbers(2, 5)"
      ],
      "execution_count": 0,
      "outputs": []
    },
    {
      "cell_type": "code",
      "metadata": {
        "id": "wUTOnG1iYvuD",
        "colab_type": "code",
        "colab": {
          "base_uri": "https://localhost:8080/",
          "height": 34
        },
        "outputId": "7d026aaf-3474-46e1-b0c0-b424fc23cae4"
      },
      "source": [
        "x.n"
      ],
      "execution_count": 113,
      "outputs": [
        {
          "output_type": "execute_result",
          "data": {
            "text/plain": [
              "2"
            ]
          },
          "metadata": {
            "tags": []
          },
          "execution_count": 113
        }
      ]
    },
    {
      "cell_type": "code",
      "metadata": {
        "id": "PwDfhRDHYwuf",
        "colab_type": "code",
        "colab": {
          "base_uri": "https://localhost:8080/",
          "height": 34
        },
        "outputId": "5e8dc71b-efe7-4fe1-e3dc-8eac3079c92b"
      },
      "source": [
        "x.e"
      ],
      "execution_count": 114,
      "outputs": [
        {
          "output_type": "execute_result",
          "data": {
            "text/plain": [
              "5"
            ]
          },
          "metadata": {
            "tags": []
          },
          "execution_count": 114
        }
      ]
    },
    {
      "cell_type": "code",
      "metadata": {
        "id": "CUPoWiIOYxJi",
        "colab_type": "code",
        "colab": {
          "base_uri": "https://localhost:8080/",
          "height": 34
        },
        "outputId": "c9ee1b9b-a24c-4f6e-a8ca-2dfe614655b4"
      },
      "source": [
        "x.raise_exp()"
      ],
      "execution_count": 115,
      "outputs": [
        {
          "output_type": "execute_result",
          "data": {
            "text/plain": [
              "32"
            ]
          },
          "metadata": {
            "tags": []
          },
          "execution_count": 115
        }
      ]
    },
    {
      "cell_type": "code",
      "metadata": {
        "id": "VNXdc5dpZsIF",
        "colab_type": "code",
        "colab": {}
      },
      "source": [
        "y = Numbers(3,5)"
      ],
      "execution_count": 0,
      "outputs": []
    },
    {
      "cell_type": "code",
      "metadata": {
        "id": "RvIHNjEYZ5TE",
        "colab_type": "code",
        "colab": {
          "base_uri": "https://localhost:8080/",
          "height": 34
        },
        "outputId": "a8dd3075-97d9-4098-b5d3-32d9b185a66c"
      },
      "source": [
        "y.raise_exp()"
      ],
      "execution_count": 117,
      "outputs": [
        {
          "output_type": "execute_result",
          "data": {
            "text/plain": [
              "243"
            ]
          },
          "metadata": {
            "tags": []
          },
          "execution_count": 117
        }
      ]
    },
    {
      "cell_type": "markdown",
      "metadata": {
        "id": "WhykTaGvaBt4",
        "colab_type": "text"
      },
      "source": [
        "### Importing libraries\n",
        "Libraries are prebuilt functions and modules.  The huge number of available libraries makes Python very powerful and flexible, you can find libraries for statistical processing, machine learning and industry use cases."
      ]
    },
    {
      "cell_type": "code",
      "metadata": {
        "id": "LfcstPZmZ6L4",
        "colab_type": "code",
        "colab": {}
      },
      "source": [
        "import numpy as np"
      ],
      "execution_count": 0,
      "outputs": []
    },
    {
      "cell_type": "code",
      "metadata": {
        "id": "_Bn8_TUPaANq",
        "colab_type": "code",
        "colab": {}
      },
      "source": [
        "#an array is the core data construct in numpy, which is the dominant statistics library in Python\n",
        "x = np.array([1,3,5,7,9])"
      ],
      "execution_count": 0,
      "outputs": []
    },
    {
      "cell_type": "code",
      "metadata": {
        "id": "9kkaQEriaSOj",
        "colab_type": "code",
        "colab": {
          "base_uri": "https://localhost:8080/",
          "height": 34
        },
        "outputId": "7b8386bf-8ba3-40a3-f9ba-47823472be30"
      },
      "source": [
        "x"
      ],
      "execution_count": 122,
      "outputs": [
        {
          "output_type": "execute_result",
          "data": {
            "text/plain": [
              "array([1, 3, 5, 7, 9])"
            ]
          },
          "metadata": {
            "tags": []
          },
          "execution_count": 122
        }
      ]
    },
    {
      "cell_type": "code",
      "metadata": {
        "id": "fwIQt5ITaSlI",
        "colab_type": "code",
        "colab": {
          "base_uri": "https://localhost:8080/",
          "height": 34
        },
        "outputId": "6842e80d-7f75-477c-eece-3e3ac0c051d8"
      },
      "source": [
        "x.mean()"
      ],
      "execution_count": 124,
      "outputs": [
        {
          "output_type": "execute_result",
          "data": {
            "text/plain": [
              "5.0"
            ]
          },
          "metadata": {
            "tags": []
          },
          "execution_count": 124
        }
      ]
    },
    {
      "cell_type": "code",
      "metadata": {
        "id": "J1Wype-EaTSF",
        "colab_type": "code",
        "colab": {
          "base_uri": "https://localhost:8080/",
          "height": 34
        },
        "outputId": "967d481a-05aa-4b88-eb81-f09ea6af02ed"
      },
      "source": [
        "x.max()"
      ],
      "execution_count": 125,
      "outputs": [
        {
          "output_type": "execute_result",
          "data": {
            "text/plain": [
              "9"
            ]
          },
          "metadata": {
            "tags": []
          },
          "execution_count": 125
        }
      ]
    },
    {
      "cell_type": "code",
      "metadata": {
        "id": "p_cE2SukaUqf",
        "colab_type": "code",
        "colab": {
          "base_uri": "https://localhost:8080/",
          "height": 34
        },
        "outputId": "1c811e5b-d20e-4fc3-8d1f-69ce9f37e405"
      },
      "source": [
        "# NP arrays behave quite a lot like lists in Python\n",
        "x[-1]"
      ],
      "execution_count": 127,
      "outputs": [
        {
          "output_type": "execute_result",
          "data": {
            "text/plain": [
              "9"
            ]
          },
          "metadata": {
            "tags": []
          },
          "execution_count": 127
        }
      ]
    },
    {
      "cell_type": "code",
      "metadata": {
        "id": "i7BL65ypaVcM",
        "colab_type": "code",
        "colab": {
          "base_uri": "https://localhost:8080/",
          "height": 34
        },
        "outputId": "3ce0ece9-b873-4ea9-ef6b-8ae6c6215ded"
      },
      "source": [
        "#except not completely\n",
        "x+1"
      ],
      "execution_count": 128,
      "outputs": [
        {
          "output_type": "execute_result",
          "data": {
            "text/plain": [
              "array([ 2,  4,  6,  8, 10])"
            ]
          },
          "metadata": {
            "tags": []
          },
          "execution_count": 128
        }
      ]
    },
    {
      "cell_type": "code",
      "metadata": {
        "id": "BfHPJkU3aoWu",
        "colab_type": "code",
        "colab": {}
      },
      "source": [
        "x_m = np.array([[3,5,7,11,20],[12,20,55,23,99]])"
      ],
      "execution_count": 0,
      "outputs": []
    },
    {
      "cell_type": "code",
      "metadata": {
        "id": "_LTT3bL3auIS",
        "colab_type": "code",
        "colab": {
          "base_uri": "https://localhost:8080/",
          "height": 51
        },
        "outputId": "722cd876-a70f-4c11-81d5-6fe7a01a3cbd"
      },
      "source": [
        "#we can easily represent matrices and vectors\n",
        "x_m"
      ],
      "execution_count": 134,
      "outputs": [
        {
          "output_type": "execute_result",
          "data": {
            "text/plain": [
              "array([[ 3,  5,  7, 11, 20],\n",
              "       [12, 20, 55, 23, 99]])"
            ]
          },
          "metadata": {
            "tags": []
          },
          "execution_count": 134
        }
      ]
    },
    {
      "cell_type": "code",
      "metadata": {
        "id": "jTMV5F7-au_4",
        "colab_type": "code",
        "colab": {
          "base_uri": "https://localhost:8080/",
          "height": 51
        },
        "outputId": "54cb15c0-94bb-4cfd-b42e-7150412aeefa"
      },
      "source": [
        "#and do matrix addition, or multiplication \n",
        "x_m+x"
      ],
      "execution_count": 135,
      "outputs": [
        {
          "output_type": "execute_result",
          "data": {
            "text/plain": [
              "array([[  4,   8,  12,  18,  29],\n",
              "       [ 13,  23,  60,  30, 108]])"
            ]
          },
          "metadata": {
            "tags": []
          },
          "execution_count": 135
        }
      ]
    },
    {
      "cell_type": "code",
      "metadata": {
        "id": "gFHbeyt1awiO",
        "colab_type": "code",
        "colab": {
          "base_uri": "https://localhost:8080/",
          "height": 34
        },
        "outputId": "f13d254b-279e-4d5f-92f5-f91dca8e4031"
      },
      "source": [
        "x_m.dot(x)"
      ],
      "execution_count": 137,
      "outputs": [
        {
          "output_type": "execute_result",
          "data": {
            "text/plain": [
              "array([ 310, 1399])"
            ]
          },
          "metadata": {
            "tags": []
          },
          "execution_count": 137
        }
      ]
    },
    {
      "cell_type": "code",
      "metadata": {
        "id": "al35upUZa_a4",
        "colab_type": "code",
        "colab": {
          "base_uri": "https://localhost:8080/",
          "height": 34
        },
        "outputId": "b4ce4a85-2f98-4aee-d619-c33388b9cc1a"
      },
      "source": [
        "x_m[0][0]"
      ],
      "execution_count": 138,
      "outputs": [
        {
          "output_type": "execute_result",
          "data": {
            "text/plain": [
              "3"
            ]
          },
          "metadata": {
            "tags": []
          },
          "execution_count": 138
        }
      ]
    }
  ]
}
